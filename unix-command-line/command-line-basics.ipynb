{
 "cells": [
  {
   "cell_type": "markdown",
   "metadata": {},
   "source": [
    "# Command line basics\n",
    "\n",
    "\n",
    "From the book \"The Linxu Command Line\" by William E. Shots\n",
    "## First steps"
   ]
  },
  {
   "cell_type": "code",
   "execution_count": null,
   "metadata": {},
   "outputs": [],
   "source": [
    "! echo \"hello world\"\n",
    "# print the date\n",
    "! date\n",
    "# free space in disk drives\n",
    "! df\n",
    "# free memory\n",
    "! free"
   ]
  },
  {
   "cell_type": "markdown",
   "metadata": {},
   "source": [
    "## Navigation commands"
   ]
  },
  {
   "cell_type": "code",
   "execution_count": 31,
   "metadata": {},
   "outputs": [
    {
     "name": "stdout",
     "output_type": "stream",
     "text": [
      "/Users/sakaya/machine-learning/unix-command-line\n",
      "\u001b[34mREADME.md\u001b[m\u001b[m                            data-science-unix-command-line.ipynb\n",
      "/bin/sh: line 0: cd: OLDPWD not set\n",
      "\u001b[35mX11\u001b[m\u001b[m        \u001b[34mbin\u001b[m\u001b[m        \u001b[34mlib\u001b[m\u001b[m        \u001b[34mlocal\u001b[m\u001b[m      \u001b[34mshare\u001b[m\u001b[m\n",
      "\u001b[35mX11R6\u001b[m\u001b[m      \u001b[34minclude\u001b[m\u001b[m    \u001b[34mlibexec\u001b[m\u001b[m    \u001b[34msbin\u001b[m\u001b[m       \u001b[34mstandalone\u001b[m\u001b[m\n",
      "total 16\n",
      "drwxr-xr-x   261 root  wheel   8874 Jan 24 10:26 \u001b[34minclude\u001b[m\u001b[m\n",
      "drwxr-xr-x   304 root  wheel  10336 Jan 24 10:26 \u001b[34mlib\u001b[m\u001b[m\n",
      "drwxr-xr-x    17 root  wheel    578 Sep 22 14:00 \u001b[34mlocal\u001b[m\u001b[m\n",
      "drwxr-xr-x    47 root  wheel   1598 Sep 18 17:55 \u001b[34mshare\u001b[m\u001b[m\n",
      "lrwxr-xr-x     1 root  wheel      8 Sep  8 13:35 \u001b[35mX11\u001b[m\u001b[m -> /opt/X11\n",
      "lrwxr-xr-x     1 root  wheel      8 Sep  8 13:35 \u001b[35mX11R6\u001b[m\u001b[m -> /opt/X11\n",
      "drwxr-xr-x  1066 root  wheel  36244 Sep  8 13:29 \u001b[34mbin\u001b[m\u001b[m\n",
      "drwxr-xr-x   210 root  wheel   7140 Sep  8 13:29 \u001b[34mlibexec\u001b[m\u001b[m\n",
      "drwxr-xr-x   246 root  wheel   8364 Sep  7 16:25 \u001b[34msbin\u001b[m\u001b[m\n",
      "drwxr-xr-x     5 root  wheel    170 Apr 29  2017 \u001b[34mstandalone\u001b[m\u001b[m\n",
      "ls: illegal option -- -\n",
      "usage: ls [-ABCFGHLOPRSTUWabcdefghiklmnopqrstuwx1] [file ...]\n",
      "../README.md: ASCII text\n",
      "# Data science and machine learning\n",
      "This git repository showcases the list of machine learning tools, algorithms and inference techniques I am familiar with.\n",
      "\n",
      "* Deep learning\n",
      "* Bayesian learning\n",
      "  * Variational inference\n",
      "  * HMC\n",
      "  * MCMC techniques\n",
      "* Gaussian Processes and Bayesian optimization\n",
      "* Cloud computing platforms\n",
      " * AWS\n",
      " * Google cloud\n",
      " \n",
      "\u001b[K\u001b[7m(END)\u001b[m\u001b[KEND)\u001b[m\u001b[K\u0007"
     ]
    }
   ],
   "source": [
    "# print working directory\n",
    "! pwd\n",
    "# list contents of directory\n",
    "! ls\n",
    "# changing directory\n",
    "! cd .\n",
    "! cd -\n",
    "# relative pathnames\n",
    "# list contents options\n",
    "! ls /usr\n",
    "! ls -lt /usr\n",
    "! ls -lt --reverse /usr\n",
    "# determining filetype\n",
    "! file ../README.md\n",
    "# display contents of file\n",
    "! less ../README.md"
   ]
  },
  {
   "cell_type": "markdown",
   "metadata": {},
   "source": [
    "## Manipulating files and directories"
   ]
  },
  {
   "cell_type": "code",
   "execution_count": 38,
   "metadata": {},
   "outputs": [],
   "source": [
    "! touch /tmp/manipulate.txt\n",
    "! cp /tmp/manipulate.txt  ~/Desktop/\n",
    "! cp /tmp/*.txt  ~/Desktop/"
   ]
  },
  {
   "cell_type": "code",
   "execution_count": null,
   "metadata": {},
   "outputs": [],
   "source": []
  }
 ],
 "metadata": {
  "kernelspec": {
   "display_name": "Python 3",
   "language": "python",
   "name": "python3"
  },
  "language_info": {
   "codemirror_mode": {
    "name": "ipython",
    "version": 3
   },
   "file_extension": ".py",
   "mimetype": "text/x-python",
   "name": "python",
   "nbconvert_exporter": "python",
   "pygments_lexer": "ipython3",
   "version": "3.6.2"
  }
 },
 "nbformat": 4,
 "nbformat_minor": 2
}
