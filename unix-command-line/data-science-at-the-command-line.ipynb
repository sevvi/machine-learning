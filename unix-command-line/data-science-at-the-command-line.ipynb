{
 "cells": [
  {
   "cell_type": "markdown",
   "metadata": {},
   "source": [
    "# Data Science at the command line\n",
    "Doing data science at the command line. From the book \"Data Science at the command line\""
   ]
  },
  {
   "cell_type": "code",
   "execution_count": 4,
   "metadata": {},
   "outputs": [
    {
     "name": "stdout",
     "output_type": "stream",
     "text": [
      " __________________________________ \n",
      "< data science at the command line >\n",
      " ---------------------------------- \n",
      "   \\\n",
      "    \\\n",
      "        .--.\n",
      "       |o_o |\n",
      "       |:_/ |\n",
      "      //   \\ \\\n",
      "     (|     | )\n",
      "    /'\\_   _/`\\\n",
      "    \\___)=(___/\n",
      "\n",
      "sakaya\n",
      "lm3-cs-12.local\n",
      "Thu Jan 25 18:21:55 EET 2018\n"
     ]
    }
   ],
   "source": [
    "! cowsay -f tux \"data science at the command line\"\n",
    "! whoami\n",
    "! hostname\n",
    "! date"
   ]
  },
  {
   "cell_type": "code",
   "execution_count": null,
   "metadata": {},
   "outputs": [],
   "source": [
    "! docker run --rm -itv`pwd`:/data datascienceworkshops/data-science-at-the-command-line\n",
    "! echo \"hellow\""
   ]
  },
  {
   "cell_type": "code",
   "execution_count": null,
   "metadata": {},
   "outputs": [],
   "source": []
  }
 ],
 "metadata": {
  "kernelspec": {
   "display_name": "Python 3",
   "language": "python",
   "name": "python3"
  },
  "language_info": {
   "codemirror_mode": {
    "name": "ipython",
    "version": 3
   },
   "file_extension": ".py",
   "mimetype": "text/x-python",
   "name": "python",
   "nbconvert_exporter": "python",
   "pygments_lexer": "ipython3",
   "version": "3.6.2"
  }
 },
 "nbformat": 4,
 "nbformat_minor": 2
}
